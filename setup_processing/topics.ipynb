{
 "cells": [
  {
   "cell_type": "code",
   "execution_count": 35,
   "metadata": {
    "collapsed": true,
    "ExecuteTime": {
     "end_time": "2024-05-16T00:36:35.324831Z",
     "start_time": "2024-05-16T00:36:35.278558Z"
    }
   },
   "outputs": [],
   "source": [
    "import polars as pl\n",
    "from polars import col as c\n",
    "import plotly.express as px\n",
    "import seaborn as sb\n",
    "import matplotlib.pyplot as plt\n",
    "from scipy.stats import probplot\n",
    "import numpy as np\n",
    "data = pl.read_csv(\"council_ann_cats.csv\")"
   ]
  },
  {
   "cell_type": "code",
   "execution_count": 36,
   "outputs": [
    {
     "data": {
      "text/plain": "shape: (2_138, 37)\n┌────────────┬────────────┬──────────┬──────────┬───┬───────────┬───────────┬───────────┬──────────┐\n│ date       ┆ councilmem ┆ budget   ┆ traffic  ┆ … ┆ welfare-f ┆ economics ┆ environme ┆ sports   │\n│ ---        ┆ ber        ┆ ---      ┆ ---      ┆   ┆ ood       ┆ ---       ┆ ntal      ┆ ---      │\n│ str        ┆ ---        ┆ f64      ┆ f64      ┆   ┆ ---       ┆ f64       ┆ ---       ┆ f64      │\n│            ┆ str        ┆          ┆          ┆   ┆ f64       ┆           ┆ f64       ┆          │\n╞════════════╪════════════╪══════════╪══════════╪═══╪═══════════╪═══════════╪═══════════╪══════════╡\n│ 2017-10-06 ┆ Herbold    ┆ 0.291145 ┆ 0.025555 ┆ … ┆ 0.00077   ┆ 0.002432  ┆ 0.001873  ┆ 0.000207 │\n│ T00:00:00. ┆            ┆          ┆          ┆   ┆           ┆           ┆           ┆          │\n│ 000000     ┆            ┆          ┆          ┆   ┆           ┆           ┆           ┆          │\n│ 2015-10-21 ┆ Burgess    ┆ 0.002007 ┆ 0.00053  ┆ … ┆ 0.000025  ┆ 0.002503  ┆ 0.001533  ┆ 0.000026 │\n│ T00:00:00. ┆            ┆          ┆          ┆   ┆           ┆           ┆           ┆          │\n│ 000000     ┆            ┆          ┆          ┆   ┆           ┆           ┆           ┆          │\n│ 2022-12-13 ┆ Mosqueda   ┆ 0.003771 ┆ 0.000192 ┆ … ┆ 0.000057  ┆ 0.002802  ┆ 0.000615  ┆ 0.000038 │\n│ T00:00:00. ┆            ┆          ┆          ┆   ┆           ┆           ┆           ┆          │\n│ 000000     ┆            ┆          ┆          ┆   ┆           ┆           ┆           ┆          │\n│ 2020-08-11 ┆ Pedersen   ┆ 0.010735 ┆ 0.000393 ┆ … ┆ 0.000281  ┆ 0.001827  ┆ 0.000433  ┆ 0.000188 │\n│ T00:00:00. ┆            ┆          ┆          ┆   ┆           ┆           ┆           ┆          │\n│ 000000     ┆            ┆          ┆          ┆   ┆           ┆           ┆           ┆          │\n│ 2024-04-04 ┆ Saka       ┆ 0.00626  ┆ 0.029565 ┆ … ┆ 0.0003    ┆ 0.006245  ┆ 0.002077  ┆ 0.000976 │\n│ T00:00:00. ┆            ┆          ┆          ┆   ┆           ┆           ┆           ┆          │\n│ 000000     ┆            ┆          ┆          ┆   ┆           ┆           ┆           ┆          │\n│ …          ┆ …          ┆ …        ┆ …        ┆ … ┆ …         ┆ …         ┆ …         ┆ …        │\n│ 2016-04-04 ┆ Gonzalez   ┆ 0.01009  ┆ 0.013815 ┆ … ┆ 0.00015   ┆ 0.002877  ┆ 0.00333   ┆ 0.000104 │\n│ T00:00:00. ┆            ┆          ┆          ┆   ┆           ┆           ┆           ┆          │\n│ 000000     ┆            ┆          ┆          ┆   ┆           ┆           ┆           ┆          │\n│ 2017-05-26 ┆ Herbold    ┆ 0.000703 ┆ 0.000363 ┆ … ┆ 0.00021   ┆ 0.000558  ┆ 0.001644  ┆ 0.000208 │\n│ T00:00:00. ┆            ┆          ┆          ┆   ┆           ┆           ┆           ┆          │\n│ 000000     ┆            ┆          ┆          ┆   ┆           ┆           ┆           ┆          │\n│ 2017-12-01 ┆ Herbold    ┆ 0.001324 ┆ 0.000164 ┆ … ┆ 0.000649  ┆ 0.009719  ┆ 0.000574  ┆ 0.000246 │\n│ T00:00:00. ┆            ┆          ┆          ┆   ┆           ┆           ┆           ┆          │\n│ 000000     ┆            ┆          ┆          ┆   ┆           ┆           ┆           ┆          │\n│ 2020-10-16 ┆ Herbold    ┆ 0.000674 ┆ 0.007145 ┆ … ┆ 0.000026  ┆ 0.00141   ┆ 0.002071  ┆ 0.000266 │\n│ T00:00:00. ┆            ┆          ┆          ┆   ┆           ┆           ┆           ┆          │\n│ 000000     ┆            ┆          ┆          ┆   ┆           ┆           ┆           ┆          │\n│ 2019-01-08 ┆ Bagshaw    ┆ 0.003528 ┆ 0.003844 ┆ … ┆ 0.000502  ┆ 0.000752  ┆ 0.000508  ┆ 0.000307 │\n│ T00:00:00. ┆            ┆          ┆          ┆   ┆           ┆           ┆           ┆          │\n│ 000000     ┆            ┆          ┆          ┆   ┆           ┆           ┆           ┆          │\n└────────────┴────────────┴──────────┴──────────┴───┴───────────┴───────────┴───────────┴──────────┘",
      "text/html": "<div><style>\n.dataframe > thead > tr,\n.dataframe > tbody > tr {\n  text-align: right;\n  white-space: pre-wrap;\n}\n</style>\n<small>shape: (2_138, 37)</small><table border=\"1\" class=\"dataframe\"><thead><tr><th>date</th><th>councilmember</th><th>budget</th><th>traffic</th><th>public transit</th><th>utilities-light</th><th>utilities-heat</th><th>utilities-water</th><th>utilities-electric</th><th>civil unrest</th><th>civil rights</th><th>parks</th><th>labor</th><th>housing</th><th>homelessness</th><th>political-legislation</th><th>political-city council</th><th>political-mayor</th><th>political-general</th><th>crime</th><th>police-general</th><th>police-controversy</th><th>police-political</th><th>public safety</th><th>public health</th><th>public services</th><th>covid-general</th><th>covid-vaccines</th><th>covid-masks</th><th>infrastructure</th><th>business</th><th>real estate</th><th>welfare-unemployment</th><th>welfare-food</th><th>economics</th><th>environmental</th><th>sports</th></tr><tr><td>str</td><td>str</td><td>f64</td><td>f64</td><td>f64</td><td>f64</td><td>f64</td><td>f64</td><td>f64</td><td>f64</td><td>f64</td><td>f64</td><td>f64</td><td>f64</td><td>f64</td><td>f64</td><td>f64</td><td>f64</td><td>f64</td><td>f64</td><td>f64</td><td>f64</td><td>f64</td><td>f64</td><td>f64</td><td>f64</td><td>f64</td><td>f64</td><td>f64</td><td>f64</td><td>f64</td><td>f64</td><td>f64</td><td>f64</td><td>f64</td><td>f64</td><td>f64</td></tr></thead><tbody><tr><td>&quot;2017-10-06T00:00:00.000000&quot;</td><td>&quot;Herbold&quot;</td><td>0.291145</td><td>0.025555</td><td>0.001758</td><td>0.000513</td><td>0.000466</td><td>0.002999</td><td>0.000629</td><td>0.000119</td><td>0.000629</td><td>0.00083</td><td>0.00024</td><td>0.002844</td><td>0.002624</td><td>0.000513</td><td>0.022059</td><td>0.002563</td><td>0.001731</td><td>0.000328</td><td>0.001852</td><td>0.001012</td><td>0.002597</td><td>0.471932</td><td>0.077555</td><td>0.007413</td><td>0.000439</td><td>0.000751</td><td>0.000335</td><td>0.002116</td><td>0.001587</td><td>0.001106</td><td>0.002075</td><td>0.00077</td><td>0.002432</td><td>0.001873</td><td>0.000207</td></tr><tr><td>&quot;2015-10-21T00:00:00.000000&quot;</td><td>&quot;Burgess&quot;</td><td>0.002007</td><td>0.00053</td><td>0.001837</td><td>0.000077</td><td>0.000022</td><td>0.000083</td><td>0.000022</td><td>0.000019</td><td>0.000084</td><td>0.007087</td><td>0.00003</td><td>0.000381</td><td>0.000225</td><td>0.000433</td><td>0.012613</td><td>0.030476</td><td>0.005703</td><td>0.000027</td><td>0.000179</td><td>0.000021</td><td>0.00057</td><td>0.000727</td><td>0.000165</td><td>0.003026</td><td>0.000048</td><td>0.000046</td><td>0.000021</td><td>0.005743</td><td>0.002087</td><td>0.000064</td><td>0.000199</td><td>0.000025</td><td>0.002503</td><td>0.001533</td><td>0.000026</td></tr><tr><td>&quot;2022-12-13T00:00:00.000000&quot;</td><td>&quot;Mosqueda&quot;</td><td>0.003771</td><td>0.000192</td><td>0.000079</td><td>0.000204</td><td>0.000193</td><td>0.000714</td><td>0.000154</td><td>0.000033</td><td>0.000377</td><td>0.000727</td><td>0.000217</td><td>0.504004</td><td>0.279074</td><td>0.01189</td><td>0.023734</td><td>0.012889</td><td>0.003017</td><td>0.000029</td><td>0.000045</td><td>0.000036</td><td>0.000227</td><td>0.000096</td><td>0.000113</td><td>0.001176</td><td>0.031976</td><td>0.002336</td><td>0.003283</td><td>0.002007</td><td>0.001695</td><td>0.00353</td><td>0.000913</td><td>0.000057</td><td>0.002802</td><td>0.000615</td><td>0.000038</td></tr><tr><td>&quot;2020-08-11T00:00:00.000000&quot;</td><td>&quot;Pedersen&quot;</td><td>0.010735</td><td>0.000393</td><td>0.00025</td><td>0.000234</td><td>0.000169</td><td>0.001041</td><td>0.000322</td><td>0.000622</td><td>0.001829</td><td>0.000308</td><td>0.000756</td><td>0.092658</td><td>0.004524</td><td>0.005473</td><td>0.01113</td><td>0.009002</td><td>0.003381</td><td>0.000225</td><td>0.010194</td><td>0.016088</td><td>0.041353</td><td>0.086244</td><td>0.000377</td><td>0.006928</td><td>0.000548</td><td>0.001219</td><td>0.000243</td><td>0.001822</td><td>0.002072</td><td>0.001609</td><td>0.004217</td><td>0.000281</td><td>0.001827</td><td>0.000433</td><td>0.000188</td></tr><tr><td>&quot;2024-04-04T00:00:00.000000&quot;</td><td>&quot;Saka&quot;</td><td>0.00626</td><td>0.029565</td><td>0.05457</td><td>0.000877</td><td>0.000592</td><td>0.005252</td><td>0.00157</td><td>0.001067</td><td>0.001818</td><td>0.000441</td><td>0.001886</td><td>0.002559</td><td>0.001895</td><td>0.016378</td><td>0.033214</td><td>0.028374</td><td>0.008726</td><td>0.000615</td><td>0.017487</td><td>0.007482</td><td>0.037606</td><td>0.004437</td><td>0.000581</td><td>0.006347</td><td>0.000577</td><td>0.000758</td><td>0.000268</td><td>0.014771</td><td>0.01121</td><td>0.001521</td><td>0.002371</td><td>0.0003</td><td>0.006245</td><td>0.002077</td><td>0.000976</td></tr><tr><td>&hellip;</td><td>&hellip;</td><td>&hellip;</td><td>&hellip;</td><td>&hellip;</td><td>&hellip;</td><td>&hellip;</td><td>&hellip;</td><td>&hellip;</td><td>&hellip;</td><td>&hellip;</td><td>&hellip;</td><td>&hellip;</td><td>&hellip;</td><td>&hellip;</td><td>&hellip;</td><td>&hellip;</td><td>&hellip;</td><td>&hellip;</td><td>&hellip;</td><td>&hellip;</td><td>&hellip;</td><td>&hellip;</td><td>&hellip;</td><td>&hellip;</td><td>&hellip;</td><td>&hellip;</td><td>&hellip;</td><td>&hellip;</td><td>&hellip;</td><td>&hellip;</td><td>&hellip;</td><td>&hellip;</td><td>&hellip;</td><td>&hellip;</td><td>&hellip;</td><td>&hellip;</td></tr><tr><td>&quot;2016-04-04T00:00:00.000000&quot;</td><td>&quot;Gonzalez&quot;</td><td>0.01009</td><td>0.013815</td><td>0.000809</td><td>0.000263</td><td>0.000109</td><td>0.000189</td><td>0.00004</td><td>0.000632</td><td>0.006472</td><td>0.001871</td><td>0.000816</td><td>0.000164</td><td>0.001153</td><td>0.016678</td><td>0.401984</td><td>0.024396</td><td>0.005062</td><td>0.016274</td><td>0.00658</td><td>0.003375</td><td>0.024403</td><td>0.004758</td><td>0.041052</td><td>0.005779</td><td>0.000734</td><td>0.000356</td><td>0.000056</td><td>0.00247</td><td>0.027515</td><td>0.000093</td><td>0.001676</td><td>0.00015</td><td>0.002877</td><td>0.00333</td><td>0.000104</td></tr><tr><td>&quot;2017-05-26T00:00:00.000000&quot;</td><td>&quot;Herbold&quot;</td><td>0.000703</td><td>0.000363</td><td>0.000265</td><td>0.000205</td><td>0.000091</td><td>0.000333</td><td>0.000068</td><td>0.004093</td><td>0.007305</td><td>0.008158</td><td>0.000152</td><td>0.000169</td><td>0.001711</td><td>0.001017</td><td>0.008837</td><td>0.002365</td><td>0.004016</td><td>0.011551</td><td>0.017885</td><td>0.008594</td><td>0.026841</td><td>0.450823</td><td>0.00063</td><td>0.005021</td><td>0.00028</td><td>0.000179</td><td>0.000054</td><td>0.000708</td><td>0.036722</td><td>0.000139</td><td>0.002792</td><td>0.00021</td><td>0.000558</td><td>0.001644</td><td>0.000208</td></tr><tr><td>&quot;2017-12-01T00:00:00.000000&quot;</td><td>&quot;Herbold&quot;</td><td>0.001324</td><td>0.000164</td><td>0.000369</td><td>0.003828</td><td>0.002004</td><td>0.010907</td><td>0.004437</td><td>0.000233</td><td>0.241764</td><td>0.000566</td><td>0.000147</td><td>0.000898</td><td>0.000847</td><td>0.013682</td><td>0.005483</td><td>0.001157</td><td>0.002106</td><td>0.000099</td><td>0.000261</td><td>0.000379</td><td>0.000465</td><td>0.000248</td><td>0.000174</td><td>0.001631</td><td>0.000226</td><td>0.002087</td><td>0.000072</td><td>0.001932</td><td>0.001292</td><td>0.002444</td><td>0.00513</td><td>0.000649</td><td>0.009719</td><td>0.000574</td><td>0.000246</td></tr><tr><td>&quot;2020-10-16T00:00:00.000000&quot;</td><td>&quot;Herbold&quot;</td><td>0.000674</td><td>0.007145</td><td>0.006219</td><td>0.000108</td><td>0.000041</td><td>0.000336</td><td>0.00005</td><td>0.000022</td><td>0.000383</td><td>0.000099</td><td>0.000041</td><td>0.000028</td><td>0.000024</td><td>0.000259</td><td>0.001276</td><td>0.002601</td><td>0.000683</td><td>0.000028</td><td>0.000033</td><td>0.000022</td><td>0.000061</td><td>0.000659</td><td>0.000068</td><td>0.001137</td><td>0.000104</td><td>0.000172</td><td>0.000024</td><td>0.013323</td><td>0.002105</td><td>0.000053</td><td>0.000266</td><td>0.000026</td><td>0.00141</td><td>0.002071</td><td>0.000266</td></tr><tr><td>&quot;2019-01-08T00:00:00.000000&quot;</td><td>&quot;Bagshaw&quot;</td><td>0.003528</td><td>0.003844</td><td>0.009153</td><td>0.000394</td><td>0.00013</td><td>0.000945</td><td>0.000243</td><td>0.000051</td><td>0.002357</td><td>0.000833</td><td>0.000067</td><td>0.024265</td><td>0.004906</td><td>0.001236</td><td>0.006895</td><td>0.003162</td><td>0.003134</td><td>0.000037</td><td>0.000335</td><td>0.000057</td><td>0.00056</td><td>0.004051</td><td>0.002824</td><td>0.011057</td><td>0.000496</td><td>0.000708</td><td>0.000217</td><td>0.006879</td><td>0.004576</td><td>0.000256</td><td>0.005136</td><td>0.000502</td><td>0.000752</td><td>0.000508</td><td>0.000307</td></tr></tbody></table></div>"
     },
     "execution_count": 36,
     "metadata": {},
     "output_type": "execute_result"
    }
   ],
   "source": [
    "scoreframe = pl.read_csv(\"seattle_council_announcement_scores.csv\")\n",
    "scoreframe"
   ],
   "metadata": {
    "collapsed": false,
    "ExecuteTime": {
     "end_time": "2024-05-16T00:36:35.325237Z",
     "start_time": "2024-05-16T00:36:35.299983Z"
    }
   }
  },
  {
   "cell_type": "code",
   "execution_count": 37,
   "outputs": [],
   "source": [
    "scoreframe = scoreframe.with_columns(c(\"date\").str.to_date(\"%Y-%m-%dT00:00:00.000000\"))"
   ],
   "metadata": {
    "collapsed": false,
    "ExecuteTime": {
     "end_time": "2024-05-16T00:36:35.325273Z",
     "start_time": "2024-05-16T00:36:35.314374Z"
    }
   }
  },
  {
   "cell_type": "code",
   "execution_count": 38,
   "outputs": [
    {
     "data": {
      "text/plain": "shape: (2_138, 37)\n┌────────────┬────────────┬──────────┬──────────┬───┬───────────┬───────────┬───────────┬──────────┐\n│ date       ┆ councilmem ┆ budget   ┆ traffic  ┆ … ┆ welfare-f ┆ economics ┆ environme ┆ sports   │\n│ ---        ┆ ber        ┆ ---      ┆ ---      ┆   ┆ ood       ┆ ---       ┆ ntal      ┆ ---      │\n│ date       ┆ ---        ┆ f64      ┆ f64      ┆   ┆ ---       ┆ f64       ┆ ---       ┆ f64      │\n│            ┆ str        ┆          ┆          ┆   ┆ f64       ┆           ┆ f64       ┆          │\n╞════════════╪════════════╪══════════╪══════════╪═══╪═══════════╪═══════════╪═══════════╪══════════╡\n│ 2017-10-06 ┆ Herbold    ┆ 0.291145 ┆ 0.025555 ┆ … ┆ 0.00077   ┆ 0.002432  ┆ 0.001873  ┆ 0.000207 │\n│ 2015-10-21 ┆ Burgess    ┆ 0.002007 ┆ 0.00053  ┆ … ┆ 0.000025  ┆ 0.002503  ┆ 0.001533  ┆ 0.000026 │\n│ 2022-12-13 ┆ Mosqueda   ┆ 0.003771 ┆ 0.000192 ┆ … ┆ 0.000057  ┆ 0.002802  ┆ 0.000615  ┆ 0.000038 │\n│ 2020-08-11 ┆ Pedersen   ┆ 0.010735 ┆ 0.000393 ┆ … ┆ 0.000281  ┆ 0.001827  ┆ 0.000433  ┆ 0.000188 │\n│ 2024-04-04 ┆ Saka       ┆ 0.00626  ┆ 0.029565 ┆ … ┆ 0.0003    ┆ 0.006245  ┆ 0.002077  ┆ 0.000976 │\n│ …          ┆ …          ┆ …        ┆ …        ┆ … ┆ …         ┆ …         ┆ …         ┆ …        │\n│ 2016-04-04 ┆ Gonzalez   ┆ 0.01009  ┆ 0.013815 ┆ … ┆ 0.00015   ┆ 0.002877  ┆ 0.00333   ┆ 0.000104 │\n│ 2017-05-26 ┆ Herbold    ┆ 0.000703 ┆ 0.000363 ┆ … ┆ 0.00021   ┆ 0.000558  ┆ 0.001644  ┆ 0.000208 │\n│ 2017-12-01 ┆ Herbold    ┆ 0.001324 ┆ 0.000164 ┆ … ┆ 0.000649  ┆ 0.009719  ┆ 0.000574  ┆ 0.000246 │\n│ 2020-10-16 ┆ Herbold    ┆ 0.000674 ┆ 0.007145 ┆ … ┆ 0.000026  ┆ 0.00141   ┆ 0.002071  ┆ 0.000266 │\n│ 2019-01-08 ┆ Bagshaw    ┆ 0.003528 ┆ 0.003844 ┆ … ┆ 0.000502  ┆ 0.000752  ┆ 0.000508  ┆ 0.000307 │\n└────────────┴────────────┴──────────┴──────────┴───┴───────────┴───────────┴───────────┴──────────┘",
      "text/html": "<div><style>\n.dataframe > thead > tr,\n.dataframe > tbody > tr {\n  text-align: right;\n  white-space: pre-wrap;\n}\n</style>\n<small>shape: (2_138, 37)</small><table border=\"1\" class=\"dataframe\"><thead><tr><th>date</th><th>councilmember</th><th>budget</th><th>traffic</th><th>public transit</th><th>utilities-light</th><th>utilities-heat</th><th>utilities-water</th><th>utilities-electric</th><th>civil unrest</th><th>civil rights</th><th>parks</th><th>labor</th><th>housing</th><th>homelessness</th><th>political-legislation</th><th>political-city council</th><th>political-mayor</th><th>political-general</th><th>crime</th><th>police-general</th><th>police-controversy</th><th>police-political</th><th>public safety</th><th>public health</th><th>public services</th><th>covid-general</th><th>covid-vaccines</th><th>covid-masks</th><th>infrastructure</th><th>business</th><th>real estate</th><th>welfare-unemployment</th><th>welfare-food</th><th>economics</th><th>environmental</th><th>sports</th></tr><tr><td>date</td><td>str</td><td>f64</td><td>f64</td><td>f64</td><td>f64</td><td>f64</td><td>f64</td><td>f64</td><td>f64</td><td>f64</td><td>f64</td><td>f64</td><td>f64</td><td>f64</td><td>f64</td><td>f64</td><td>f64</td><td>f64</td><td>f64</td><td>f64</td><td>f64</td><td>f64</td><td>f64</td><td>f64</td><td>f64</td><td>f64</td><td>f64</td><td>f64</td><td>f64</td><td>f64</td><td>f64</td><td>f64</td><td>f64</td><td>f64</td><td>f64</td><td>f64</td></tr></thead><tbody><tr><td>2017-10-06</td><td>&quot;Herbold&quot;</td><td>0.291145</td><td>0.025555</td><td>0.001758</td><td>0.000513</td><td>0.000466</td><td>0.002999</td><td>0.000629</td><td>0.000119</td><td>0.000629</td><td>0.00083</td><td>0.00024</td><td>0.002844</td><td>0.002624</td><td>0.000513</td><td>0.022059</td><td>0.002563</td><td>0.001731</td><td>0.000328</td><td>0.001852</td><td>0.001012</td><td>0.002597</td><td>0.471932</td><td>0.077555</td><td>0.007413</td><td>0.000439</td><td>0.000751</td><td>0.000335</td><td>0.002116</td><td>0.001587</td><td>0.001106</td><td>0.002075</td><td>0.00077</td><td>0.002432</td><td>0.001873</td><td>0.000207</td></tr><tr><td>2015-10-21</td><td>&quot;Burgess&quot;</td><td>0.002007</td><td>0.00053</td><td>0.001837</td><td>0.000077</td><td>0.000022</td><td>0.000083</td><td>0.000022</td><td>0.000019</td><td>0.000084</td><td>0.007087</td><td>0.00003</td><td>0.000381</td><td>0.000225</td><td>0.000433</td><td>0.012613</td><td>0.030476</td><td>0.005703</td><td>0.000027</td><td>0.000179</td><td>0.000021</td><td>0.00057</td><td>0.000727</td><td>0.000165</td><td>0.003026</td><td>0.000048</td><td>0.000046</td><td>0.000021</td><td>0.005743</td><td>0.002087</td><td>0.000064</td><td>0.000199</td><td>0.000025</td><td>0.002503</td><td>0.001533</td><td>0.000026</td></tr><tr><td>2022-12-13</td><td>&quot;Mosqueda&quot;</td><td>0.003771</td><td>0.000192</td><td>0.000079</td><td>0.000204</td><td>0.000193</td><td>0.000714</td><td>0.000154</td><td>0.000033</td><td>0.000377</td><td>0.000727</td><td>0.000217</td><td>0.504004</td><td>0.279074</td><td>0.01189</td><td>0.023734</td><td>0.012889</td><td>0.003017</td><td>0.000029</td><td>0.000045</td><td>0.000036</td><td>0.000227</td><td>0.000096</td><td>0.000113</td><td>0.001176</td><td>0.031976</td><td>0.002336</td><td>0.003283</td><td>0.002007</td><td>0.001695</td><td>0.00353</td><td>0.000913</td><td>0.000057</td><td>0.002802</td><td>0.000615</td><td>0.000038</td></tr><tr><td>2020-08-11</td><td>&quot;Pedersen&quot;</td><td>0.010735</td><td>0.000393</td><td>0.00025</td><td>0.000234</td><td>0.000169</td><td>0.001041</td><td>0.000322</td><td>0.000622</td><td>0.001829</td><td>0.000308</td><td>0.000756</td><td>0.092658</td><td>0.004524</td><td>0.005473</td><td>0.01113</td><td>0.009002</td><td>0.003381</td><td>0.000225</td><td>0.010194</td><td>0.016088</td><td>0.041353</td><td>0.086244</td><td>0.000377</td><td>0.006928</td><td>0.000548</td><td>0.001219</td><td>0.000243</td><td>0.001822</td><td>0.002072</td><td>0.001609</td><td>0.004217</td><td>0.000281</td><td>0.001827</td><td>0.000433</td><td>0.000188</td></tr><tr><td>2024-04-04</td><td>&quot;Saka&quot;</td><td>0.00626</td><td>0.029565</td><td>0.05457</td><td>0.000877</td><td>0.000592</td><td>0.005252</td><td>0.00157</td><td>0.001067</td><td>0.001818</td><td>0.000441</td><td>0.001886</td><td>0.002559</td><td>0.001895</td><td>0.016378</td><td>0.033214</td><td>0.028374</td><td>0.008726</td><td>0.000615</td><td>0.017487</td><td>0.007482</td><td>0.037606</td><td>0.004437</td><td>0.000581</td><td>0.006347</td><td>0.000577</td><td>0.000758</td><td>0.000268</td><td>0.014771</td><td>0.01121</td><td>0.001521</td><td>0.002371</td><td>0.0003</td><td>0.006245</td><td>0.002077</td><td>0.000976</td></tr><tr><td>&hellip;</td><td>&hellip;</td><td>&hellip;</td><td>&hellip;</td><td>&hellip;</td><td>&hellip;</td><td>&hellip;</td><td>&hellip;</td><td>&hellip;</td><td>&hellip;</td><td>&hellip;</td><td>&hellip;</td><td>&hellip;</td><td>&hellip;</td><td>&hellip;</td><td>&hellip;</td><td>&hellip;</td><td>&hellip;</td><td>&hellip;</td><td>&hellip;</td><td>&hellip;</td><td>&hellip;</td><td>&hellip;</td><td>&hellip;</td><td>&hellip;</td><td>&hellip;</td><td>&hellip;</td><td>&hellip;</td><td>&hellip;</td><td>&hellip;</td><td>&hellip;</td><td>&hellip;</td><td>&hellip;</td><td>&hellip;</td><td>&hellip;</td><td>&hellip;</td><td>&hellip;</td></tr><tr><td>2016-04-04</td><td>&quot;Gonzalez&quot;</td><td>0.01009</td><td>0.013815</td><td>0.000809</td><td>0.000263</td><td>0.000109</td><td>0.000189</td><td>0.00004</td><td>0.000632</td><td>0.006472</td><td>0.001871</td><td>0.000816</td><td>0.000164</td><td>0.001153</td><td>0.016678</td><td>0.401984</td><td>0.024396</td><td>0.005062</td><td>0.016274</td><td>0.00658</td><td>0.003375</td><td>0.024403</td><td>0.004758</td><td>0.041052</td><td>0.005779</td><td>0.000734</td><td>0.000356</td><td>0.000056</td><td>0.00247</td><td>0.027515</td><td>0.000093</td><td>0.001676</td><td>0.00015</td><td>0.002877</td><td>0.00333</td><td>0.000104</td></tr><tr><td>2017-05-26</td><td>&quot;Herbold&quot;</td><td>0.000703</td><td>0.000363</td><td>0.000265</td><td>0.000205</td><td>0.000091</td><td>0.000333</td><td>0.000068</td><td>0.004093</td><td>0.007305</td><td>0.008158</td><td>0.000152</td><td>0.000169</td><td>0.001711</td><td>0.001017</td><td>0.008837</td><td>0.002365</td><td>0.004016</td><td>0.011551</td><td>0.017885</td><td>0.008594</td><td>0.026841</td><td>0.450823</td><td>0.00063</td><td>0.005021</td><td>0.00028</td><td>0.000179</td><td>0.000054</td><td>0.000708</td><td>0.036722</td><td>0.000139</td><td>0.002792</td><td>0.00021</td><td>0.000558</td><td>0.001644</td><td>0.000208</td></tr><tr><td>2017-12-01</td><td>&quot;Herbold&quot;</td><td>0.001324</td><td>0.000164</td><td>0.000369</td><td>0.003828</td><td>0.002004</td><td>0.010907</td><td>0.004437</td><td>0.000233</td><td>0.241764</td><td>0.000566</td><td>0.000147</td><td>0.000898</td><td>0.000847</td><td>0.013682</td><td>0.005483</td><td>0.001157</td><td>0.002106</td><td>0.000099</td><td>0.000261</td><td>0.000379</td><td>0.000465</td><td>0.000248</td><td>0.000174</td><td>0.001631</td><td>0.000226</td><td>0.002087</td><td>0.000072</td><td>0.001932</td><td>0.001292</td><td>0.002444</td><td>0.00513</td><td>0.000649</td><td>0.009719</td><td>0.000574</td><td>0.000246</td></tr><tr><td>2020-10-16</td><td>&quot;Herbold&quot;</td><td>0.000674</td><td>0.007145</td><td>0.006219</td><td>0.000108</td><td>0.000041</td><td>0.000336</td><td>0.00005</td><td>0.000022</td><td>0.000383</td><td>0.000099</td><td>0.000041</td><td>0.000028</td><td>0.000024</td><td>0.000259</td><td>0.001276</td><td>0.002601</td><td>0.000683</td><td>0.000028</td><td>0.000033</td><td>0.000022</td><td>0.000061</td><td>0.000659</td><td>0.000068</td><td>0.001137</td><td>0.000104</td><td>0.000172</td><td>0.000024</td><td>0.013323</td><td>0.002105</td><td>0.000053</td><td>0.000266</td><td>0.000026</td><td>0.00141</td><td>0.002071</td><td>0.000266</td></tr><tr><td>2019-01-08</td><td>&quot;Bagshaw&quot;</td><td>0.003528</td><td>0.003844</td><td>0.009153</td><td>0.000394</td><td>0.00013</td><td>0.000945</td><td>0.000243</td><td>0.000051</td><td>0.002357</td><td>0.000833</td><td>0.000067</td><td>0.024265</td><td>0.004906</td><td>0.001236</td><td>0.006895</td><td>0.003162</td><td>0.003134</td><td>0.000037</td><td>0.000335</td><td>0.000057</td><td>0.00056</td><td>0.004051</td><td>0.002824</td><td>0.011057</td><td>0.000496</td><td>0.000708</td><td>0.000217</td><td>0.006879</td><td>0.004576</td><td>0.000256</td><td>0.005136</td><td>0.000502</td><td>0.000752</td><td>0.000508</td><td>0.000307</td></tr></tbody></table></div>"
     },
     "execution_count": 38,
     "metadata": {},
     "output_type": "execute_result"
    }
   ],
   "source": [
    "scoreframe"
   ],
   "metadata": {
    "collapsed": false,
    "ExecuteTime": {
     "end_time": "2024-05-16T00:36:35.325357Z",
     "start_time": "2024-05-16T00:36:35.315907Z"
    }
   }
  },
  {
   "cell_type": "code",
   "execution_count": 39,
   "outputs": [],
   "source": [
    "def normal_transform(num):\n",
    "    return 0.5 * np.log10(num / (1 - num))\n",
    "\n",
    "for col in scoreframe.columns[2:]:\n",
    "    scoreframe = scoreframe.with_columns(c(col).map_elements(normal_transform, return_dtype = pl.Float64))"
   ],
   "metadata": {
    "collapsed": false,
    "ExecuteTime": {
     "end_time": "2024-05-16T00:36:35.448806Z",
     "start_time": "2024-05-16T00:36:35.323771Z"
    }
   }
  },
  {
   "cell_type": "code",
   "execution_count": 45,
   "outputs": [
    {
     "data": {
      "text/plain": "0           Strauss\n1            Kshama\n2             Moore\n3           Johnson\n4             Lewis\n5        Statements\n6            Andrew\n7            Juarez\n8             Brien\n9          Mosqueda\n10          Okamoto\n11            Sally\n12           Teresa\n13           Nelson\n14              Rob\n15              Rod\n16          Pacheco\n17            Tammy\n18          unknown\n19                G\n20             Alex\n21          O'Brien\n22           Lorena\n23             Saka\n24           Rivera\n25              Tom\n26           Debora\n27             John\n28             Lisa\n29             Jean\n30            Clark\n31          Burgess\n32             Mike\n33          Harrell\n34             Nick\n35                M\n36           Licata\n37         Pedersen\n38          Herbold\n39          O’Brien\n40         Gonzalez\n41             Gonz\n42             Sara\n43           Kettle\n44           Godden\n45    Hollingsworth\n46          Bagshaw\n47          Morales\n48            Bruce\n49        Rasmussen\n50              Tim\n51           Sawant\n52              Dan\nName: councilmember, dtype: object"
     },
     "execution_count": 45,
     "metadata": {},
     "output_type": "execute_result"
    }
   ],
   "source": [
    "scoreframe[\"councilmember\"].unique().to_pandas()"
   ],
   "metadata": {
    "collapsed": false,
    "ExecuteTime": {
     "end_time": "2024-05-16T00:37:45.755602Z",
     "start_time": "2024-05-16T00:37:45.746597Z"
    }
   }
  },
  {
   "cell_type": "code",
   "execution_count": 51,
   "outputs": [
    {
     "name": "stderr",
     "output_type": "stream",
     "text": [
      "sys:1: MapWithoutReturnDtypeWarning: Calling `map_elements` without specifying `return_dtype` can lead to unpredictable results. Specify `return_dtype` to silence this warning.\n",
      "sys:1: MapWithoutReturnDtypeWarning: Calling `map_elements` without specifying `return_dtype` can lead to unpredictable results. Specify `return_dtype` to silence this warning.\n",
      "sys:1: MapWithoutReturnDtypeWarning: Calling `map_elements` without specifying `return_dtype` can lead to unpredictable results. Specify `return_dtype` to silence this warning.\n",
      "sys:1: MapWithoutReturnDtypeWarning: Calling `map_elements` without specifying `return_dtype` can lead to unpredictable results. Specify `return_dtype` to silence this warning.\n",
      "sys:1: MapWithoutReturnDtypeWarning: Calling `map_elements` without specifying `return_dtype` can lead to unpredictable results. Specify `return_dtype` to silence this warning.\n",
      "sys:1: MapWithoutReturnDtypeWarning: Calling `map_elements` without specifying `return_dtype` can lead to unpredictable results. Specify `return_dtype` to silence this warning.\n",
      "sys:1: MapWithoutReturnDtypeWarning: Calling `map_elements` without specifying `return_dtype` can lead to unpredictable results. Specify `return_dtype` to silence this warning.\n",
      "sys:1: MapWithoutReturnDtypeWarning: Calling `map_elements` without specifying `return_dtype` can lead to unpredictable results. Specify `return_dtype` to silence this warning.\n",
      "sys:1: MapWithoutReturnDtypeWarning: Calling `map_elements` without specifying `return_dtype` can lead to unpredictable results. Specify `return_dtype` to silence this warning.\n",
      "sys:1: MapWithoutReturnDtypeWarning: Calling `map_elements` without specifying `return_dtype` can lead to unpredictable results. Specify `return_dtype` to silence this warning.\n",
      "sys:1: MapWithoutReturnDtypeWarning: Calling `map_elements` without specifying `return_dtype` can lead to unpredictable results. Specify `return_dtype` to silence this warning.\n",
      "sys:1: MapWithoutReturnDtypeWarning: Calling `map_elements` without specifying `return_dtype` can lead to unpredictable results. Specify `return_dtype` to silence this warning.\n"
     ]
    }
   ],
   "source": [
    "scoreframe = scoreframe.with_columns(c(\"councilmember\").map_elements(lambda x: \"O'Brien\" if x == \"Brien\" else x))"
   ],
   "metadata": {
    "collapsed": false,
    "ExecuteTime": {
     "end_time": "2024-05-16T00:42:02.189772Z",
     "start_time": "2024-05-16T00:42:02.177318Z"
    }
   }
  },
  {
   "cell_type": "code",
   "execution_count": 55,
   "outputs": [
    {
     "data": {
      "text/plain": "shape: (21,)\nSeries: 'councilmember' [str]\n[\n\t\"Sawant\"\n\t\"Herbold\"\n\t\"Mosqueda\"\n\t\"Bagshaw\"\n\t\"Gonzalez\"\n\t…\n\t\"Strauss\"\n\t\"Okamoto\"\n\t\"Gonz\"\n\t\"Rasmussen\"\n\t\"Nelson\"\n]",
      "text/html": "<div><style>\n.dataframe > thead > tr,\n.dataframe > tbody > tr {\n  text-align: right;\n  white-space: pre-wrap;\n}\n</style>\n<small>shape: (21,)</small><table border=\"1\" class=\"dataframe\"><thead><tr><th>councilmember</th></tr><tr><td>str</td></tr></thead><tbody><tr><td>&quot;Sawant&quot;</td></tr><tr><td>&quot;Herbold&quot;</td></tr><tr><td>&quot;Mosqueda&quot;</td></tr><tr><td>&quot;Bagshaw&quot;</td></tr><tr><td>&quot;Gonzalez&quot;</td></tr><tr><td>&hellip;</td></tr><tr><td>&quot;Strauss&quot;</td></tr><tr><td>&quot;Okamoto&quot;</td></tr><tr><td>&quot;Gonz&quot;</td></tr><tr><td>&quot;Rasmussen&quot;</td></tr><tr><td>&quot;Nelson&quot;</td></tr></tbody></table></div>"
     },
     "execution_count": 55,
     "metadata": {},
     "output_type": "execute_result"
    }
   ],
   "source": [
    "valid_names = scoreframe.group_by(\"councilmember\").agg(c(\"councilmember\").count().alias(\"anncmts\")).sort(by = \"anncmts\", descending = True)[\"councilmember\"][:21]\n",
    "valid_names = list(valid_names)"
   ],
   "metadata": {
    "collapsed": false,
    "ExecuteTime": {
     "end_time": "2024-05-16T00:43:24.483879Z",
     "start_time": "2024-05-16T00:43:24.476276Z"
    }
   }
  },
  {
   "cell_type": "code",
   "execution_count": 59,
   "outputs": [],
   "source": [
    "scoreframe = scoreframe.filter(c(\"councilmember\").map_elements(lambda x: True if x in valid_names else False, return_dtype = pl.Boolean))"
   ],
   "metadata": {
    "collapsed": false,
    "ExecuteTime": {
     "end_time": "2024-05-16T00:45:19.134441Z",
     "start_time": "2024-05-16T00:45:19.048903Z"
    }
   }
  },
  {
   "cell_type": "code",
   "execution_count": 64,
   "outputs": [
    {
     "data": {
      "text/plain": "0       Burgess\n1      Pedersen\n2        Juarez\n3       Okamoto\n4      Mosqueda\n5       Johnson\n6       Herbold\n7        Licata\n8       O'Brien\n9        Kshama\n10       Sawant\n11      Strauss\n12        Lewis\n13      Morales\n14      unknown\n15      Bagshaw\n16       Nelson\n17      Harrell\n18     Gonzalez\n19    Rasmussen\nName: councilmember, dtype: object"
     },
     "execution_count": 64,
     "metadata": {},
     "output_type": "execute_result"
    }
   ],
   "source": [
    "scoreframe = scoreframe.with_columns(c(\"councilmember\").map_elements(lambda x: \"Gonzalez\" if x == \"Gonz\" else x, return_dtype = pl.String))\n",
    "scoreframe[\"councilmember\"].unique().to_pandas()"
   ],
   "metadata": {
    "collapsed": false,
    "ExecuteTime": {
     "end_time": "2024-05-16T00:46:52.553463Z",
     "start_time": "2024-05-16T00:46:52.549317Z"
    }
   }
  },
  {
   "cell_type": "code",
   "execution_count": 66,
   "outputs": [],
   "source": [
    "scoreframe.write_csv(\"clean_tendency_data.csv\")"
   ],
   "metadata": {
    "collapsed": false,
    "ExecuteTime": {
     "end_time": "2024-05-16T00:47:45.076729Z",
     "start_time": "2024-05-16T00:47:45.070894Z"
    }
   }
  },
  {
   "cell_type": "code",
   "execution_count": null,
   "outputs": [],
   "source": [],
   "metadata": {
    "collapsed": false
   }
  }
 ],
 "metadata": {
  "kernelspec": {
   "display_name": "Python 3",
   "language": "python",
   "name": "python3"
  },
  "language_info": {
   "codemirror_mode": {
    "name": "ipython",
    "version": 2
   },
   "file_extension": ".py",
   "mimetype": "text/x-python",
   "name": "python",
   "nbconvert_exporter": "python",
   "pygments_lexer": "ipython2",
   "version": "2.7.6"
  }
 },
 "nbformat": 4,
 "nbformat_minor": 0
}
