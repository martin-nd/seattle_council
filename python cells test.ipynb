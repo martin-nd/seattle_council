{
 "cells": [
  {
   "cell_type": "code",
   "execution_count": 34,
   "outputs": [],
   "source": [
    "from statsmodels.multivariate.manova import MANOVA\n",
    "import polars as pl\n",
    "import pandas as pd\n",
    "from polars import col as c\n",
    "import re\n",
    "import numpy as np\n",
    "from matplotlib import pyplot as plt\n",
    "import seaborn as sns"
   ],
   "metadata": {
    "collapsed": false,
    "ExecuteTime": {
     "end_time": "2024-05-16T19:40:58.155776Z",
     "start_time": "2024-05-16T19:40:58.153352Z"
    }
   }
  },
  {
   "cell_type": "code",
   "execution_count": 37,
   "metadata": {
    "collapsed": true,
    "ExecuteTime": {
     "end_time": "2024-05-16T19:42:51.853216Z",
     "start_time": "2024-05-16T19:42:51.534929Z"
    }
   },
   "outputs": [
    {
     "data": {
      "text/plain": "                   subject          pval\n0           infrastructure  9.395641e-02\n1          public_services  1.019216e-02\n2          utilities_water  9.528823e-03\n3           utilities_heat  5.102303e-03\n4              real_estate  3.012597e-03\n5                 business  6.614077e-04\n6              covid_masks  5.324384e-04\n7           covid_vaccines  3.409780e-04\n8             welfare_food  2.662232e-04\n9           public_transit  8.281472e-05\n10        police_political  7.180801e-05\n11         political_mayor  4.297396e-05\n12      police_controversy  3.787986e-05\n13           public_safety  2.165651e-05\n14                  budget  5.323765e-06\n15                   crime  2.880978e-06\n16                 traffic  2.633788e-06\n17            homelessness  5.787212e-09\n18           covid_general  6.874474e-10\n19               economics  1.470446e-10\n20          police_general  1.066362e-10\n21         utilities_light  6.759397e-11\n22    welfare_unemployment  4.466058e-11\n23                 housing  3.742263e-12\n24      utilities_electric  2.665726e-12\n25                  sports  4.133593e-14\n26   political_legislation  3.146949e-14\n27           environmental  1.114623e-16\n28       political_general  7.068287e-19\n29            civil_rights  5.016942e-21\n30           public_health  3.376582e-21\n31                   parks  1.719768e-24\n32            civil_unrest  6.189928e-29\n33  political_city_council  1.075807e-37\n34                   labor  2.173226e-46",
      "text/html": "<div>\n<style scoped>\n    .dataframe tbody tr th:only-of-type {\n        vertical-align: middle;\n    }\n\n    .dataframe tbody tr th {\n        vertical-align: top;\n    }\n\n    .dataframe thead th {\n        text-align: right;\n    }\n</style>\n<table border=\"1\" class=\"dataframe\">\n  <thead>\n    <tr style=\"text-align: right;\">\n      <th></th>\n      <th>subject</th>\n      <th>pval</th>\n    </tr>\n  </thead>\n  <tbody>\n    <tr>\n      <th>0</th>\n      <td>infrastructure</td>\n      <td>9.395641e-02</td>\n    </tr>\n    <tr>\n      <th>1</th>\n      <td>public_services</td>\n      <td>1.019216e-02</td>\n    </tr>\n    <tr>\n      <th>2</th>\n      <td>utilities_water</td>\n      <td>9.528823e-03</td>\n    </tr>\n    <tr>\n      <th>3</th>\n      <td>utilities_heat</td>\n      <td>5.102303e-03</td>\n    </tr>\n    <tr>\n      <th>4</th>\n      <td>real_estate</td>\n      <td>3.012597e-03</td>\n    </tr>\n    <tr>\n      <th>5</th>\n      <td>business</td>\n      <td>6.614077e-04</td>\n    </tr>\n    <tr>\n      <th>6</th>\n      <td>covid_masks</td>\n      <td>5.324384e-04</td>\n    </tr>\n    <tr>\n      <th>7</th>\n      <td>covid_vaccines</td>\n      <td>3.409780e-04</td>\n    </tr>\n    <tr>\n      <th>8</th>\n      <td>welfare_food</td>\n      <td>2.662232e-04</td>\n    </tr>\n    <tr>\n      <th>9</th>\n      <td>public_transit</td>\n      <td>8.281472e-05</td>\n    </tr>\n    <tr>\n      <th>10</th>\n      <td>police_political</td>\n      <td>7.180801e-05</td>\n    </tr>\n    <tr>\n      <th>11</th>\n      <td>political_mayor</td>\n      <td>4.297396e-05</td>\n    </tr>\n    <tr>\n      <th>12</th>\n      <td>police_controversy</td>\n      <td>3.787986e-05</td>\n    </tr>\n    <tr>\n      <th>13</th>\n      <td>public_safety</td>\n      <td>2.165651e-05</td>\n    </tr>\n    <tr>\n      <th>14</th>\n      <td>budget</td>\n      <td>5.323765e-06</td>\n    </tr>\n    <tr>\n      <th>15</th>\n      <td>crime</td>\n      <td>2.880978e-06</td>\n    </tr>\n    <tr>\n      <th>16</th>\n      <td>traffic</td>\n      <td>2.633788e-06</td>\n    </tr>\n    <tr>\n      <th>17</th>\n      <td>homelessness</td>\n      <td>5.787212e-09</td>\n    </tr>\n    <tr>\n      <th>18</th>\n      <td>covid_general</td>\n      <td>6.874474e-10</td>\n    </tr>\n    <tr>\n      <th>19</th>\n      <td>economics</td>\n      <td>1.470446e-10</td>\n    </tr>\n    <tr>\n      <th>20</th>\n      <td>police_general</td>\n      <td>1.066362e-10</td>\n    </tr>\n    <tr>\n      <th>21</th>\n      <td>utilities_light</td>\n      <td>6.759397e-11</td>\n    </tr>\n    <tr>\n      <th>22</th>\n      <td>welfare_unemployment</td>\n      <td>4.466058e-11</td>\n    </tr>\n    <tr>\n      <th>23</th>\n      <td>housing</td>\n      <td>3.742263e-12</td>\n    </tr>\n    <tr>\n      <th>24</th>\n      <td>utilities_electric</td>\n      <td>2.665726e-12</td>\n    </tr>\n    <tr>\n      <th>25</th>\n      <td>sports</td>\n      <td>4.133593e-14</td>\n    </tr>\n    <tr>\n      <th>26</th>\n      <td>political_legislation</td>\n      <td>3.146949e-14</td>\n    </tr>\n    <tr>\n      <th>27</th>\n      <td>environmental</td>\n      <td>1.114623e-16</td>\n    </tr>\n    <tr>\n      <th>28</th>\n      <td>political_general</td>\n      <td>7.068287e-19</td>\n    </tr>\n    <tr>\n      <th>29</th>\n      <td>civil_rights</td>\n      <td>5.016942e-21</td>\n    </tr>\n    <tr>\n      <th>30</th>\n      <td>public_health</td>\n      <td>3.376582e-21</td>\n    </tr>\n    <tr>\n      <th>31</th>\n      <td>parks</td>\n      <td>1.719768e-24</td>\n    </tr>\n    <tr>\n      <th>32</th>\n      <td>civil_unrest</td>\n      <td>6.189928e-29</td>\n    </tr>\n    <tr>\n      <th>33</th>\n      <td>political_city_council</td>\n      <td>1.075807e-37</td>\n    </tr>\n    <tr>\n      <th>34</th>\n      <td>labor</td>\n      <td>2.173226e-46</td>\n    </tr>\n  </tbody>\n</table>\n</div>"
     },
     "execution_count": 37,
     "metadata": {},
     "output_type": "execute_result"
    }
   ],
   "source": [
    "data = pl.read_csv(\"scaled_clean_tendency_data.csv\")\n",
    "newcols = [\"_\".join(re.split(\"[- ]\", colname)) for colname in data.columns]\n",
    "data.columns = newcols\n",
    "formula_exog = \" + \".join(data.drop([\"councilmember\", \"date\"]).columns)\n",
    "mv_test = MANOVA.from_formula(f\"councilmember ~ {formula_exog}\", data.drop(\"date\").to_pandas())\n",
    "test = mv_test.mv_test().results\n",
    "results_table = {\n",
    "    \"subject\": list(test.keys())[1:],\n",
    "    \"pval\": []\n",
    "}\n",
    "for var in results_table[\"subject\"]:\n",
    "    pval = test[var][\"stat\"].iloc[2, 4]\n",
    "    results_table[\"pval\"].append(pval)\n",
    "\n",
    "pd.DataFrame(results_table).sort_values(by = \"pval\", ascending = False).reset_index(drop = True)"
   ]
  },
  {
   "cell_type": "code",
   "execution_count": 3,
   "outputs": [
    {
     "data": {
      "text/plain": "['__class__',\n '__delattr__',\n '__dict__',\n '__dir__',\n '__doc__',\n '__eq__',\n '__format__',\n '__ge__',\n '__getattribute__',\n '__getstate__',\n '__gt__',\n '__hash__',\n '__init__',\n '__init_subclass__',\n '__le__',\n '__lt__',\n '__module__',\n '__ne__',\n '__new__',\n '__reduce__',\n '__reduce_ex__',\n '__repr__',\n '__setattr__',\n '__sizeof__',\n '__str__',\n '__subclasshook__',\n '__weakref__',\n '_check_kwargs',\n '_data_attr',\n '_fittedmod',\n '_formula_max_endog',\n '_get_init_kwds',\n '_handle_data',\n '_init_keys',\n '_kwargs_allowed',\n 'data',\n 'endog',\n 'endog_names',\n 'exog',\n 'exog_names',\n 'fit',\n 'formula',\n 'from_formula',\n 'k_constant',\n 'mv_test',\n 'predict']"
     },
     "execution_count": 3,
     "metadata": {},
     "output_type": "execute_result"
    }
   ],
   "source": [
    "dir(mv_test)"
   ],
   "metadata": {
    "collapsed": false,
    "ExecuteTime": {
     "end_time": "2024-05-16T19:23:26.118449Z",
     "start_time": "2024-05-16T19:23:26.106744Z"
    }
   }
  },
  {
   "cell_type": "code",
   "execution_count": 27,
   "outputs": [
    {
     "data": {
      "text/plain": "5.323765332429244e-06"
     },
     "execution_count": 27,
     "metadata": {},
     "output_type": "execute_result"
    }
   ],
   "source": [
    "test = mv_test.mv_test()\n",
    "test.results[\"budget\"][\"stat\"].iloc[2, 4]"
   ],
   "metadata": {
    "collapsed": false,
    "ExecuteTime": {
     "end_time": "2024-05-16T19:31:41.520631Z",
     "start_time": "2024-05-16T19:31:41.429174Z"
    }
   }
  },
  {
   "cell_type": "code",
   "execution_count": 29,
   "outputs": [
    {
     "data": {
      "text/plain": "dict_keys(['Intercept', 'budget', 'traffic', 'public_transit', 'utilities_light', 'utilities_heat', 'utilities_water', 'utilities_electric', 'civil_unrest', 'civil_rights', 'parks', 'labor', 'housing', 'homelessness', 'political_legislation', 'political_city_council', 'political_mayor', 'political_general', 'crime', 'police_general', 'police_controversy', 'police_political', 'public_safety', 'public_health', 'public_services', 'covid_general', 'covid_vaccines', 'covid_masks', 'infrastructure', 'business', 'real_estate', 'welfare_unemployment', 'welfare_food', 'economics', 'environmental', 'sports'])"
     },
     "execution_count": 29,
     "metadata": {},
     "output_type": "execute_result"
    }
   ],
   "source": [],
   "metadata": {
    "collapsed": false,
    "ExecuteTime": {
     "end_time": "2024-05-16T19:32:31.777024Z",
     "start_time": "2024-05-16T19:32:31.775179Z"
    }
   }
  }
 ],
 "metadata": {
  "kernelspec": {
   "display_name": "Python 3",
   "language": "python",
   "name": "python3"
  },
  "language_info": {
   "codemirror_mode": {
    "name": "ipython",
    "version": 2
   },
   "file_extension": ".py",
   "mimetype": "text/x-python",
   "name": "python",
   "nbconvert_exporter": "python",
   "pygments_lexer": "ipython2",
   "version": "2.7.6"
  }
 },
 "nbformat": 4,
 "nbformat_minor": 0
}
